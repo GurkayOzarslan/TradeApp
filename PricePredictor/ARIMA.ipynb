{
 "cells": [
  {
   "cell_type": "code",
   "execution_count": 6,
   "metadata": {},
   "outputs": [],
   "source": [
    "import pandas as pd\n",
    "import numpy as np\n",
    "import matplotlib.pyplot as plt\n",
    "from statsmodels.tsa.arima.model import ARIMA\n",
    "from sklearn.metrics import mean_squared_error\n"
   ]
  },
  {
   "cell_type": "code",
   "execution_count": 7,
   "metadata": {},
   "outputs": [
    {
     "data": {
      "text/html": [
       "<div>\n",
       "<style scoped>\n",
       "    .dataframe tbody tr th:only-of-type {\n",
       "        vertical-align: middle;\n",
       "    }\n",
       "\n",
       "    .dataframe tbody tr th {\n",
       "        vertical-align: top;\n",
       "    }\n",
       "\n",
       "    .dataframe thead th {\n",
       "        text-align: right;\n",
       "    }\n",
       "</style>\n",
       "<table border=\"1\" class=\"dataframe\">\n",
       "  <thead>\n",
       "    <tr style=\"text-align: right;\">\n",
       "      <th></th>\n",
       "      <th>AdjClose</th>\n",
       "      <th>Açılış</th>\n",
       "      <th>Yüksek</th>\n",
       "      <th>Düşük</th>\n",
       "      <th>M1</th>\n",
       "      <th>Inflation</th>\n",
       "      <th>InterestRate</th>\n",
       "      <th>USD_TRY</th>\n",
       "      <th>BIST100</th>\n",
       "    </tr>\n",
       "    <tr>\n",
       "      <th>Tarih</th>\n",
       "      <th></th>\n",
       "      <th></th>\n",
       "      <th></th>\n",
       "      <th></th>\n",
       "      <th></th>\n",
       "      <th></th>\n",
       "      <th></th>\n",
       "      <th></th>\n",
       "      <th></th>\n",
       "    </tr>\n",
       "  </thead>\n",
       "  <tbody>\n",
       "    <tr>\n",
       "      <th>2024-01-03</th>\n",
       "      <td>230.10</td>\n",
       "      <td>235.90</td>\n",
       "      <td>236.00</td>\n",
       "      <td>229.7</td>\n",
       "      <td>5.515378e+09</td>\n",
       "      <td>68.50</td>\n",
       "      <td>44.86</td>\n",
       "      <td>29.69</td>\n",
       "      <td>7412.04</td>\n",
       "    </tr>\n",
       "    <tr>\n",
       "      <th>2024-01-04</th>\n",
       "      <td>233.30</td>\n",
       "      <td>230.70</td>\n",
       "      <td>234.30</td>\n",
       "      <td>229.7</td>\n",
       "      <td>5.452040e+09</td>\n",
       "      <td>69.80</td>\n",
       "      <td>44.93</td>\n",
       "      <td>29.75</td>\n",
       "      <td>7547.84</td>\n",
       "    </tr>\n",
       "    <tr>\n",
       "      <th>2024-01-05</th>\n",
       "      <td>239.20</td>\n",
       "      <td>233.80</td>\n",
       "      <td>239.20</td>\n",
       "      <td>233.2</td>\n",
       "      <td>5.393797e+09</td>\n",
       "      <td>75.45</td>\n",
       "      <td>45.00</td>\n",
       "      <td>29.82</td>\n",
       "      <td>7628.73</td>\n",
       "    </tr>\n",
       "    <tr>\n",
       "      <th>2024-01-06</th>\n",
       "      <td>240.33</td>\n",
       "      <td>235.57</td>\n",
       "      <td>240.83</td>\n",
       "      <td>234.7</td>\n",
       "      <td>5.532444e+09</td>\n",
       "      <td>71.60</td>\n",
       "      <td>45.07</td>\n",
       "      <td>29.84</td>\n",
       "      <td>7692.12</td>\n",
       "    </tr>\n",
       "    <tr>\n",
       "      <th>2024-01-07</th>\n",
       "      <td>241.47</td>\n",
       "      <td>237.33</td>\n",
       "      <td>242.47</td>\n",
       "      <td>236.2</td>\n",
       "      <td>5.537031e+09</td>\n",
       "      <td>61.78</td>\n",
       "      <td>45.14</td>\n",
       "      <td>29.86</td>\n",
       "      <td>7755.50</td>\n",
       "    </tr>\n",
       "    <tr>\n",
       "      <th>2024-01-08</th>\n",
       "      <td>242.60</td>\n",
       "      <td>239.10</td>\n",
       "      <td>244.10</td>\n",
       "      <td>237.7</td>\n",
       "      <td>5.982992e+09</td>\n",
       "      <td>51.97</td>\n",
       "      <td>45.21</td>\n",
       "      <td>29.88</td>\n",
       "      <td>7818.89</td>\n",
       "    </tr>\n",
       "    <tr>\n",
       "      <th>2024-01-09</th>\n",
       "      <td>242.90</td>\n",
       "      <td>243.90</td>\n",
       "      <td>250.50</td>\n",
       "      <td>239.4</td>\n",
       "      <td>6.105518e+09</td>\n",
       "      <td>49.38</td>\n",
       "      <td>45.29</td>\n",
       "      <td>29.87</td>\n",
       "      <td>7736.26</td>\n",
       "    </tr>\n",
       "    <tr>\n",
       "      <th>2024-01-10</th>\n",
       "      <td>249.90</td>\n",
       "      <td>242.90</td>\n",
       "      <td>252.25</td>\n",
       "      <td>242.2</td>\n",
       "      <td>6.087428e+09</td>\n",
       "      <td>48.58</td>\n",
       "      <td>45.36</td>\n",
       "      <td>29.95</td>\n",
       "      <td>7874.16</td>\n",
       "    </tr>\n",
       "    <tr>\n",
       "      <th>2024-01-11</th>\n",
       "      <td>246.70</td>\n",
       "      <td>250.50</td>\n",
       "      <td>251.50</td>\n",
       "      <td>245.0</td>\n",
       "      <td>6.089273e+09</td>\n",
       "      <td>47.09</td>\n",
       "      <td>45.43</td>\n",
       "      <td>29.96</td>\n",
       "      <td>7895.96</td>\n",
       "    </tr>\n",
       "    <tr>\n",
       "      <th>2024-01-12</th>\n",
       "      <td>251.00</td>\n",
       "      <td>246.00</td>\n",
       "      <td>254.75</td>\n",
       "      <td>241.9</td>\n",
       "      <td>6.186877e+09</td>\n",
       "      <td>44.38</td>\n",
       "      <td>45.50</td>\n",
       "      <td>30.06</td>\n",
       "      <td>7986.47</td>\n",
       "    </tr>\n",
       "  </tbody>\n",
       "</table>\n",
       "</div>"
      ],
      "text/plain": [
       "            AdjClose  Açılış  Yüksek  Düşük            M1  Inflation  \\\n",
       "Tarih                                                                  \n",
       "2024-01-03    230.10  235.90  236.00  229.7  5.515378e+09      68.50   \n",
       "2024-01-04    233.30  230.70  234.30  229.7  5.452040e+09      69.80   \n",
       "2024-01-05    239.20  233.80  239.20  233.2  5.393797e+09      75.45   \n",
       "2024-01-06    240.33  235.57  240.83  234.7  5.532444e+09      71.60   \n",
       "2024-01-07    241.47  237.33  242.47  236.2  5.537031e+09      61.78   \n",
       "2024-01-08    242.60  239.10  244.10  237.7  5.982992e+09      51.97   \n",
       "2024-01-09    242.90  243.90  250.50  239.4  6.105518e+09      49.38   \n",
       "2024-01-10    249.90  242.90  252.25  242.2  6.087428e+09      48.58   \n",
       "2024-01-11    246.70  250.50  251.50  245.0  6.089273e+09      47.09   \n",
       "2024-01-12    251.00  246.00  254.75  241.9  6.186877e+09      44.38   \n",
       "\n",
       "            InterestRate  USD_TRY  BIST100  \n",
       "Tarih                                       \n",
       "2024-01-03         44.86    29.69  7412.04  \n",
       "2024-01-04         44.93    29.75  7547.84  \n",
       "2024-01-05         45.00    29.82  7628.73  \n",
       "2024-01-06         45.07    29.84  7692.12  \n",
       "2024-01-07         45.14    29.86  7755.50  \n",
       "2024-01-08         45.21    29.88  7818.89  \n",
       "2024-01-09         45.29    29.87  7736.26  \n",
       "2024-01-10         45.36    29.95  7874.16  \n",
       "2024-01-11         45.43    29.96  7895.96  \n",
       "2024-01-12         45.50    30.06  7986.47  "
      ]
     },
     "execution_count": 7,
     "metadata": {},
     "output_type": "execute_result"
    }
   ],
   "source": [
    "data=pd.read_csv('Merged_Data.csv',parse_dates=['Tarih'], index_col='Tarih',sep=',',decimal='.',date_format='%Y-%m-%d')\n",
    "data=data.drop(columns=[\"Hacim\",\"Fark%\",\"GDP\"],axis=1)\n",
    "#data.dropna(inplace=True)\n",
    "data.tail(10)"
   ]
  },
  {
   "cell_type": "code",
   "execution_count": 8,
   "metadata": {},
   "outputs": [],
   "source": [
    "data['LogAdjClose'] = np.log(data['AdjClose'])\n",
    "data['DiffLogAdjClose'] = data['LogAdjClose'].diff()\n",
    "data.dropna(inplace=True)"
   ]
  },
  {
   "cell_type": "code",
   "execution_count": 9,
   "metadata": {},
   "outputs": [],
   "source": [
    "series = data['LogAdjClose']\n",
    "train_size = int(len(series) * 0.8)\n",
    "train, test = series[:train_size], series[train_size:]"
   ]
  },
  {
   "cell_type": "code",
   "execution_count": 10,
   "metadata": {},
   "outputs": [
    {
     "name": "stderr",
     "output_type": "stream",
     "text": [
      "c:\\Users\\onugu\\anaconda3\\Lib\\site-packages\\sklearn\\utils\\deprecation.py:151: FutureWarning: 'force_all_finite' was renamed to 'ensure_all_finite' in 1.6 and will be removed in 1.8.\n",
      "  warnings.warn(\n",
      "c:\\Users\\onugu\\anaconda3\\Lib\\site-packages\\sklearn\\utils\\deprecation.py:151: FutureWarning: 'force_all_finite' was renamed to 'ensure_all_finite' in 1.6 and will be removed in 1.8.\n",
      "  warnings.warn(\n",
      "c:\\Users\\onugu\\anaconda3\\Lib\\site-packages\\sklearn\\utils\\deprecation.py:151: FutureWarning: 'force_all_finite' was renamed to 'ensure_all_finite' in 1.6 and will be removed in 1.8.\n",
      "  warnings.warn(\n",
      "c:\\Users\\onugu\\anaconda3\\Lib\\site-packages\\sklearn\\utils\\deprecation.py:151: FutureWarning: 'force_all_finite' was renamed to 'ensure_all_finite' in 1.6 and will be removed in 1.8.\n",
      "  warnings.warn(\n",
      "c:\\Users\\onugu\\anaconda3\\Lib\\site-packages\\sklearn\\utils\\deprecation.py:151: FutureWarning: 'force_all_finite' was renamed to 'ensure_all_finite' in 1.6 and will be removed in 1.8.\n",
      "  warnings.warn(\n",
      "c:\\Users\\onugu\\anaconda3\\Lib\\site-packages\\sklearn\\utils\\deprecation.py:151: FutureWarning: 'force_all_finite' was renamed to 'ensure_all_finite' in 1.6 and will be removed in 1.8.\n",
      "  warnings.warn(\n",
      "c:\\Users\\onugu\\anaconda3\\Lib\\site-packages\\sklearn\\utils\\deprecation.py:151: FutureWarning: 'force_all_finite' was renamed to 'ensure_all_finite' in 1.6 and will be removed in 1.8.\n",
      "  warnings.warn(\n",
      "c:\\Users\\onugu\\anaconda3\\Lib\\site-packages\\sklearn\\utils\\deprecation.py:151: FutureWarning: 'force_all_finite' was renamed to 'ensure_all_finite' in 1.6 and will be removed in 1.8.\n",
      "  warnings.warn(\n",
      "c:\\Users\\onugu\\anaconda3\\Lib\\site-packages\\sklearn\\utils\\deprecation.py:151: FutureWarning: 'force_all_finite' was renamed to 'ensure_all_finite' in 1.6 and will be removed in 1.8.\n",
      "  warnings.warn(\n"
     ]
    },
    {
     "name": "stdout",
     "output_type": "stream",
     "text": [
      "Performing stepwise search to minimize aic\n",
      " ARIMA(2,1,2)(0,0,0)[0] intercept   : AIC=-13518.909, Time=1.87 sec\n",
      " ARIMA(0,1,0)(0,0,0)[0] intercept   : AIC=-13505.085, Time=0.14 sec\n"
     ]
    },
    {
     "name": "stderr",
     "output_type": "stream",
     "text": [
      "c:\\Users\\onugu\\anaconda3\\Lib\\site-packages\\sklearn\\utils\\deprecation.py:151: FutureWarning: 'force_all_finite' was renamed to 'ensure_all_finite' in 1.6 and will be removed in 1.8.\n",
      "  warnings.warn(\n",
      "c:\\Users\\onugu\\anaconda3\\Lib\\site-packages\\sklearn\\utils\\deprecation.py:151: FutureWarning: 'force_all_finite' was renamed to 'ensure_all_finite' in 1.6 and will be removed in 1.8.\n",
      "  warnings.warn(\n"
     ]
    },
    {
     "name": "stdout",
     "output_type": "stream",
     "text": [
      " ARIMA(1,1,0)(0,0,0)[0] intercept   : AIC=-13509.970, Time=0.10 sec\n"
     ]
    },
    {
     "name": "stderr",
     "output_type": "stream",
     "text": [
      "c:\\Users\\onugu\\anaconda3\\Lib\\site-packages\\sklearn\\utils\\deprecation.py:151: FutureWarning: 'force_all_finite' was renamed to 'ensure_all_finite' in 1.6 and will be removed in 1.8.\n",
      "  warnings.warn(\n"
     ]
    },
    {
     "name": "stdout",
     "output_type": "stream",
     "text": [
      " ARIMA(0,1,1)(0,0,0)[0] intercept   : AIC=-13509.273, Time=0.54 sec\n",
      " ARIMA(0,1,0)(0,0,0)[0]             : AIC=-13505.895, Time=0.09 sec\n"
     ]
    },
    {
     "name": "stderr",
     "output_type": "stream",
     "text": [
      "c:\\Users\\onugu\\anaconda3\\Lib\\site-packages\\sklearn\\utils\\deprecation.py:151: FutureWarning: 'force_all_finite' was renamed to 'ensure_all_finite' in 1.6 and will be removed in 1.8.\n",
      "  warnings.warn(\n",
      "c:\\Users\\onugu\\anaconda3\\Lib\\site-packages\\sklearn\\utils\\deprecation.py:151: FutureWarning: 'force_all_finite' was renamed to 'ensure_all_finite' in 1.6 and will be removed in 1.8.\n",
      "  warnings.warn(\n"
     ]
    },
    {
     "name": "stdout",
     "output_type": "stream",
     "text": [
      " ARIMA(1,1,2)(0,0,0)[0] intercept   : AIC=-13513.178, Time=0.25 sec\n"
     ]
    },
    {
     "name": "stderr",
     "output_type": "stream",
     "text": [
      "c:\\Users\\onugu\\anaconda3\\Lib\\site-packages\\sklearn\\utils\\deprecation.py:151: FutureWarning: 'force_all_finite' was renamed to 'ensure_all_finite' in 1.6 and will be removed in 1.8.\n",
      "  warnings.warn(\n"
     ]
    },
    {
     "name": "stdout",
     "output_type": "stream",
     "text": [
      " ARIMA(2,1,1)(0,0,0)[0] intercept   : AIC=-13514.821, Time=0.54 sec\n"
     ]
    },
    {
     "name": "stderr",
     "output_type": "stream",
     "text": [
      "c:\\Users\\onugu\\anaconda3\\Lib\\site-packages\\sklearn\\utils\\deprecation.py:151: FutureWarning: 'force_all_finite' was renamed to 'ensure_all_finite' in 1.6 and will be removed in 1.8.\n",
      "  warnings.warn(\n"
     ]
    },
    {
     "name": "stdout",
     "output_type": "stream",
     "text": [
      " ARIMA(3,1,2)(0,0,0)[0] intercept   : AIC=-13509.969, Time=1.51 sec\n"
     ]
    },
    {
     "name": "stderr",
     "output_type": "stream",
     "text": [
      "c:\\Users\\onugu\\anaconda3\\Lib\\site-packages\\sklearn\\utils\\deprecation.py:151: FutureWarning: 'force_all_finite' was renamed to 'ensure_all_finite' in 1.6 and will be removed in 1.8.\n",
      "  warnings.warn(\n"
     ]
    },
    {
     "name": "stdout",
     "output_type": "stream",
     "text": [
      " ARIMA(2,1,3)(0,0,0)[0] intercept   : AIC=-13512.889, Time=1.59 sec\n"
     ]
    },
    {
     "name": "stderr",
     "output_type": "stream",
     "text": [
      "c:\\Users\\onugu\\anaconda3\\Lib\\site-packages\\sklearn\\utils\\deprecation.py:151: FutureWarning: 'force_all_finite' was renamed to 'ensure_all_finite' in 1.6 and will be removed in 1.8.\n",
      "  warnings.warn(\n"
     ]
    },
    {
     "name": "stdout",
     "output_type": "stream",
     "text": [
      " ARIMA(1,1,1)(0,0,0)[0] intercept   : AIC=-13512.727, Time=0.25 sec\n"
     ]
    },
    {
     "name": "stderr",
     "output_type": "stream",
     "text": [
      "c:\\Users\\onugu\\anaconda3\\Lib\\site-packages\\sklearn\\utils\\deprecation.py:151: FutureWarning: 'force_all_finite' was renamed to 'ensure_all_finite' in 1.6 and will be removed in 1.8.\n",
      "  warnings.warn(\n"
     ]
    },
    {
     "name": "stdout",
     "output_type": "stream",
     "text": [
      " ARIMA(1,1,3)(0,0,0)[0] intercept   : AIC=-13511.884, Time=0.96 sec\n"
     ]
    },
    {
     "name": "stderr",
     "output_type": "stream",
     "text": [
      "c:\\Users\\onugu\\anaconda3\\Lib\\site-packages\\sklearn\\utils\\deprecation.py:151: FutureWarning: 'force_all_finite' was renamed to 'ensure_all_finite' in 1.6 and will be removed in 1.8.\n",
      "  warnings.warn(\n"
     ]
    },
    {
     "name": "stdout",
     "output_type": "stream",
     "text": [
      " ARIMA(3,1,1)(0,0,0)[0] intercept   : AIC=-13512.285, Time=0.95 sec\n"
     ]
    },
    {
     "name": "stderr",
     "output_type": "stream",
     "text": [
      "c:\\Users\\onugu\\anaconda3\\Lib\\site-packages\\sklearn\\utils\\deprecation.py:151: FutureWarning: 'force_all_finite' was renamed to 'ensure_all_finite' in 1.6 and will be removed in 1.8.\n",
      "  warnings.warn(\n"
     ]
    },
    {
     "name": "stdout",
     "output_type": "stream",
     "text": [
      " ARIMA(3,1,3)(0,0,0)[0] intercept   : AIC=-13510.942, Time=1.70 sec\n"
     ]
    },
    {
     "name": "stderr",
     "output_type": "stream",
     "text": [
      "c:\\Users\\onugu\\anaconda3\\Lib\\site-packages\\sklearn\\utils\\deprecation.py:151: FutureWarning: 'force_all_finite' was renamed to 'ensure_all_finite' in 1.6 and will be removed in 1.8.\n",
      "  warnings.warn(\n"
     ]
    },
    {
     "name": "stdout",
     "output_type": "stream",
     "text": [
      " ARIMA(2,1,2)(0,0,0)[0]             : AIC=-13520.091, Time=0.86 sec\n"
     ]
    },
    {
     "name": "stderr",
     "output_type": "stream",
     "text": [
      "c:\\Users\\onugu\\anaconda3\\Lib\\site-packages\\sklearn\\utils\\deprecation.py:151: FutureWarning: 'force_all_finite' was renamed to 'ensure_all_finite' in 1.6 and will be removed in 1.8.\n",
      "  warnings.warn(\n"
     ]
    },
    {
     "name": "stdout",
     "output_type": "stream",
     "text": [
      " ARIMA(1,1,2)(0,0,0)[0]             : AIC=-13514.178, Time=0.36 sec\n"
     ]
    },
    {
     "name": "stderr",
     "output_type": "stream",
     "text": [
      "c:\\Users\\onugu\\anaconda3\\Lib\\site-packages\\sklearn\\utils\\deprecation.py:151: FutureWarning: 'force_all_finite' was renamed to 'ensure_all_finite' in 1.6 and will be removed in 1.8.\n",
      "  warnings.warn(\n"
     ]
    },
    {
     "name": "stdout",
     "output_type": "stream",
     "text": [
      " ARIMA(2,1,1)(0,0,0)[0]             : AIC=-13515.805, Time=0.29 sec\n"
     ]
    },
    {
     "name": "stderr",
     "output_type": "stream",
     "text": [
      "c:\\Users\\onugu\\anaconda3\\Lib\\site-packages\\sklearn\\utils\\deprecation.py:151: FutureWarning: 'force_all_finite' was renamed to 'ensure_all_finite' in 1.6 and will be removed in 1.8.\n",
      "  warnings.warn(\n"
     ]
    },
    {
     "name": "stdout",
     "output_type": "stream",
     "text": [
      " ARIMA(3,1,2)(0,0,0)[0]             : AIC=-13510.972, Time=0.63 sec\n"
     ]
    },
    {
     "name": "stderr",
     "output_type": "stream",
     "text": [
      "c:\\Users\\onugu\\anaconda3\\Lib\\site-packages\\sklearn\\utils\\deprecation.py:151: FutureWarning: 'force_all_finite' was renamed to 'ensure_all_finite' in 1.6 and will be removed in 1.8.\n",
      "  warnings.warn(\n"
     ]
    },
    {
     "name": "stdout",
     "output_type": "stream",
     "text": [
      " ARIMA(2,1,3)(0,0,0)[0]             : AIC=-13513.755, Time=0.54 sec\n"
     ]
    },
    {
     "name": "stderr",
     "output_type": "stream",
     "text": [
      "c:\\Users\\onugu\\anaconda3\\Lib\\site-packages\\sklearn\\utils\\deprecation.py:151: FutureWarning: 'force_all_finite' was renamed to 'ensure_all_finite' in 1.6 and will be removed in 1.8.\n",
      "  warnings.warn(\n"
     ]
    },
    {
     "name": "stdout",
     "output_type": "stream",
     "text": [
      " ARIMA(1,1,1)(0,0,0)[0]             : AIC=-13519.066, Time=0.55 sec\n"
     ]
    },
    {
     "name": "stderr",
     "output_type": "stream",
     "text": [
      "c:\\Users\\onugu\\anaconda3\\Lib\\site-packages\\sklearn\\utils\\deprecation.py:151: FutureWarning: 'force_all_finite' was renamed to 'ensure_all_finite' in 1.6 and will be removed in 1.8.\n",
      "  warnings.warn(\n"
     ]
    },
    {
     "name": "stdout",
     "output_type": "stream",
     "text": [
      " ARIMA(1,1,3)(0,0,0)[0]             : AIC=-13512.980, Time=1.24 sec\n"
     ]
    },
    {
     "name": "stderr",
     "output_type": "stream",
     "text": [
      "c:\\Users\\onugu\\anaconda3\\Lib\\site-packages\\sklearn\\utils\\deprecation.py:151: FutureWarning: 'force_all_finite' was renamed to 'ensure_all_finite' in 1.6 and will be removed in 1.8.\n",
      "  warnings.warn(\n"
     ]
    },
    {
     "name": "stdout",
     "output_type": "stream",
     "text": [
      " ARIMA(3,1,1)(0,0,0)[0]             : AIC=-13513.291, Time=0.84 sec\n",
      " ARIMA(3,1,3)(0,0,0)[0]             : AIC=-13510.017, Time=0.19 sec\n",
      "\n",
      "Best model:  ARIMA(2,1,2)(0,0,0)[0]          \n",
      "Total fit time: 15.998 seconds\n"
     ]
    },
    {
     "name": "stderr",
     "output_type": "stream",
     "text": [
      "c:\\Users\\onugu\\anaconda3\\Lib\\site-packages\\sklearn\\utils\\deprecation.py:151: FutureWarning: 'force_all_finite' was renamed to 'ensure_all_finite' in 1.6 and will be removed in 1.8.\n",
      "  warnings.warn(\n"
     ]
    }
   ],
   "source": [
    "from pmdarima.arima import auto_arima\n",
    "\n",
    "model = auto_arima(train,\n",
    "                   seasonal=False,\n",
    "                   stepwise=True,\n",
    "                   suppress_warnings=True,\n",
    "                   trace=True)"
   ]
  },
  {
   "cell_type": "code",
   "execution_count": 11,
   "metadata": {},
   "outputs": [
    {
     "name": "stdout",
     "output_type": "stream",
     "text": [
      "Seçilen model:                                SARIMAX Results                                \n",
      "==============================================================================\n",
      "Dep. Variable:                      y   No. Observations:                 2637\n",
      "Model:               SARIMAX(2, 1, 2)   Log Likelihood                6765.045\n",
      "Date:                Thu, 27 Mar 2025   AIC                         -13520.091\n",
      "Time:                        10:03:49   BIC                         -13490.706\n",
      "Sample:                    01-03-2015   HQIC                        -13509.451\n",
      "                         - 03-23-2022                                         \n",
      "Covariance Type:                  opg                                         \n",
      "==============================================================================\n",
      "                 coef    std err          z      P>|z|      [0.025      0.975]\n",
      "------------------------------------------------------------------------------\n",
      "ar.L1         -0.0588      0.121     -0.486      0.627      -0.296       0.178\n",
      "ar.L2          0.6756      0.124      5.453      0.000       0.433       0.918\n",
      "ma.L1          0.0905      0.127      0.713      0.476      -0.158       0.339\n",
      "ma.L2         -0.6110      0.132     -4.634      0.000      -0.869      -0.353\n",
      "sigma2         0.0003   4.99e-06     69.209      0.000       0.000       0.000\n",
      "===================================================================================\n",
      "Ljung-Box (L1) (Q):                   0.73   Jarque-Bera (JB):              3354.71\n",
      "Prob(Q):                              0.39   Prob(JB):                         0.00\n",
      "Heteroskedasticity (H):               1.96   Skew:                            -0.15\n",
      "Prob(H) (two-sided):                  0.00   Kurtosis:                         8.52\n",
      "===================================================================================\n",
      "\n",
      "Warnings:\n",
      "[1] Covariance matrix calculated using the outer product of gradients (complex-step).\n"
     ]
    }
   ],
   "source": [
    "print(\"Seçilen model:\", model.summary())"
   ]
  },
  {
   "cell_type": "code",
   "execution_count": 13,
   "metadata": {},
   "outputs": [
    {
     "name": "stdout",
     "output_type": "stream",
     "text": [
      "Auto ARIMA RMSE (fiyat): 134.0521305878107\n"
     ]
    },
    {
     "name": "stderr",
     "output_type": "stream",
     "text": [
      "c:\\Users\\onugu\\anaconda3\\Lib\\site-packages\\sklearn\\utils\\deprecation.py:151: FutureWarning: 'force_all_finite' was renamed to 'ensure_all_finite' in 1.6 and will be removed in 1.8.\n",
      "  warnings.warn(\n"
     ]
    }
   ],
   "source": [
    "# Test verisi kadar tahmin yap\n",
    "forecast = model.predict(n_periods=len(test))\n",
    "\n",
    "# RMSE (fiyat üzerinden)\n",
    "true_prices = np.exp(test)\n",
    "predicted_prices = np.exp(forecast)\n",
    "\n",
    "rmse = np.sqrt(mean_squared_error(true_prices, predicted_prices))\n",
    "print(\"Auto ARIMA RMSE (fiyat):\", rmse)\n"
   ]
  },
  {
   "cell_type": "code",
   "execution_count": 14,
   "metadata": {},
   "outputs": [
    {
     "data": {
      "image/png": "[encoded data removed]",
      "text/plain": [
       "<Figure size 1200x600 with 1 Axes>"
      ]
     },
     "metadata": {},
     "output_type": "display_data"
    }
   ],
   "source": [
    "plt.figure(figsize=(12,6))\n",
    "plt.plot(true_prices, label='Gerçek Fiyat', color='blue')\n",
    "plt.plot(predicted_prices, label='Auto ARIMA Tahmini', color='orange')\n",
    "plt.title('Auto ARIMA ile Fiyat Tahmini')\n",
    "plt.xlabel('Zaman')\n",
    "plt.ylabel('Fiyat')\n",
    "plt.legend()\n",
    "plt.grid(True)\n",
    "plt.show()\n"
   ]
  }
 ],
 "metadata": {
  "kernelspec": {
   "display_name": "base",
   "language": "python",
   "name": "python3"
  },
  "language_info": {
   "codemirror_mode": {
    "name": "ipython",
    "version": 3
   },
   "file_extension": ".py",
   "mimetype": "text/x-python",
   "name": "python",
   "nbconvert_exporter": "python",
   "pygments_lexer": "ipython3",
   "version": "3.12.3"
  }
 },
 "nbformat": 4,
 "nbformat_minor": 2
}
