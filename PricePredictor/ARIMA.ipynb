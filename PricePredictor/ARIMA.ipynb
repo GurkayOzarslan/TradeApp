{
 "cells": [
  {
   "cell_type": "code",
   "execution_count": 16,
   "metadata": {},
   "outputs": [],
   "source": [
    "import pandas as pd\n",
    "import numpy as np\n",
    "import matplotlib.pyplot as plt\n",
    "from statsmodels.tsa.arima.model import ARIMA\n",
    "from sklearn.metrics import mean_squared_error\n"
   ]
  },
  {
   "cell_type": "code",
   "execution_count": 17,
   "metadata": {},
   "outputs": [
    {
     "data": {
      "text/html": [
       "<div>\n",
       "<style scoped>\n",
       "    .dataframe tbody tr th:only-of-type {\n",
       "        vertical-align: middle;\n",
       "    }\n",
       "\n",
       "    .dataframe tbody tr th {\n",
       "        vertical-align: top;\n",
       "    }\n",
       "\n",
       "    .dataframe thead th {\n",
       "        text-align: right;\n",
       "    }\n",
       "</style>\n",
       "<table border=\"1\" class=\"dataframe\">\n",
       "  <thead>\n",
       "    <tr style=\"text-align: right;\">\n",
       "      <th></th>\n",
       "      <th>AdjClose</th>\n",
       "      <th>Açılış</th>\n",
       "      <th>Yüksek</th>\n",
       "      <th>Düşük</th>\n",
       "      <th>M1</th>\n",
       "      <th>Inflation</th>\n",
       "      <th>InterestRate</th>\n",
       "      <th>USD_TRY</th>\n",
       "      <th>BIST100</th>\n",
       "    </tr>\n",
       "    <tr>\n",
       "      <th>Tarih</th>\n",
       "      <th></th>\n",
       "      <th></th>\n",
       "      <th></th>\n",
       "      <th></th>\n",
       "      <th></th>\n",
       "      <th></th>\n",
       "      <th></th>\n",
       "      <th></th>\n",
       "      <th></th>\n",
       "    </tr>\n",
       "  </thead>\n",
       "  <tbody>\n",
       "    <tr>\n",
       "      <th>2024-01-03</th>\n",
       "      <td>230.10</td>\n",
       "      <td>235.90</td>\n",
       "      <td>236.00</td>\n",
       "      <td>229.7</td>\n",
       "      <td>5.515378e+09</td>\n",
       "      <td>68.50</td>\n",
       "      <td>44.86</td>\n",
       "      <td>29.69</td>\n",
       "      <td>7412.04</td>\n",
       "    </tr>\n",
       "    <tr>\n",
       "      <th>2024-01-04</th>\n",
       "      <td>233.30</td>\n",
       "      <td>230.70</td>\n",
       "      <td>234.30</td>\n",
       "      <td>229.7</td>\n",
       "      <td>5.452040e+09</td>\n",
       "      <td>69.80</td>\n",
       "      <td>44.93</td>\n",
       "      <td>29.75</td>\n",
       "      <td>7547.84</td>\n",
       "    </tr>\n",
       "    <tr>\n",
       "      <th>2024-01-05</th>\n",
       "      <td>239.20</td>\n",
       "      <td>233.80</td>\n",
       "      <td>239.20</td>\n",
       "      <td>233.2</td>\n",
       "      <td>5.393797e+09</td>\n",
       "      <td>75.45</td>\n",
       "      <td>45.00</td>\n",
       "      <td>29.82</td>\n",
       "      <td>7628.73</td>\n",
       "    </tr>\n",
       "    <tr>\n",
       "      <th>2024-01-06</th>\n",
       "      <td>240.33</td>\n",
       "      <td>235.57</td>\n",
       "      <td>240.83</td>\n",
       "      <td>234.7</td>\n",
       "      <td>5.532444e+09</td>\n",
       "      <td>71.60</td>\n",
       "      <td>45.07</td>\n",
       "      <td>29.84</td>\n",
       "      <td>7692.12</td>\n",
       "    </tr>\n",
       "    <tr>\n",
       "      <th>2024-01-07</th>\n",
       "      <td>241.47</td>\n",
       "      <td>237.33</td>\n",
       "      <td>242.47</td>\n",
       "      <td>236.2</td>\n",
       "      <td>5.537031e+09</td>\n",
       "      <td>61.78</td>\n",
       "      <td>45.14</td>\n",
       "      <td>29.86</td>\n",
       "      <td>7755.50</td>\n",
       "    </tr>\n",
       "    <tr>\n",
       "      <th>2024-01-08</th>\n",
       "      <td>242.60</td>\n",
       "      <td>239.10</td>\n",
       "      <td>244.10</td>\n",
       "      <td>237.7</td>\n",
       "      <td>5.982992e+09</td>\n",
       "      <td>51.97</td>\n",
       "      <td>45.21</td>\n",
       "      <td>29.88</td>\n",
       "      <td>7818.89</td>\n",
       "    </tr>\n",
       "    <tr>\n",
       "      <th>2024-01-09</th>\n",
       "      <td>242.90</td>\n",
       "      <td>243.90</td>\n",
       "      <td>250.50</td>\n",
       "      <td>239.4</td>\n",
       "      <td>6.105518e+09</td>\n",
       "      <td>49.38</td>\n",
       "      <td>45.29</td>\n",
       "      <td>29.87</td>\n",
       "      <td>7736.26</td>\n",
       "    </tr>\n",
       "    <tr>\n",
       "      <th>2024-01-10</th>\n",
       "      <td>249.90</td>\n",
       "      <td>242.90</td>\n",
       "      <td>252.25</td>\n",
       "      <td>242.2</td>\n",
       "      <td>6.087428e+09</td>\n",
       "      <td>48.58</td>\n",
       "      <td>45.36</td>\n",
       "      <td>29.95</td>\n",
       "      <td>7874.16</td>\n",
       "    </tr>\n",
       "    <tr>\n",
       "      <th>2024-01-11</th>\n",
       "      <td>246.70</td>\n",
       "      <td>250.50</td>\n",
       "      <td>251.50</td>\n",
       "      <td>245.0</td>\n",
       "      <td>6.089273e+09</td>\n",
       "      <td>47.09</td>\n",
       "      <td>45.43</td>\n",
       "      <td>29.96</td>\n",
       "      <td>7895.96</td>\n",
       "    </tr>\n",
       "    <tr>\n",
       "      <th>2024-01-12</th>\n",
       "      <td>251.00</td>\n",
       "      <td>246.00</td>\n",
       "      <td>254.75</td>\n",
       "      <td>241.9</td>\n",
       "      <td>6.186877e+09</td>\n",
       "      <td>44.38</td>\n",
       "      <td>45.50</td>\n",
       "      <td>30.06</td>\n",
       "      <td>7986.47</td>\n",
       "    </tr>\n",
       "  </tbody>\n",
       "</table>\n",
       "</div>"
      ],
      "text/plain": [
       "            AdjClose  Açılış  Yüksek  Düşük            M1  Inflation  \\\n",
       "Tarih                                                                  \n",
       "2024-01-03    230.10  235.90  236.00  229.7  5.515378e+09      68.50   \n",
       "2024-01-04    233.30  230.70  234.30  229.7  5.452040e+09      69.80   \n",
       "2024-01-05    239.20  233.80  239.20  233.2  5.393797e+09      75.45   \n",
       "2024-01-06    240.33  235.57  240.83  234.7  5.532444e+09      71.60   \n",
       "2024-01-07    241.47  237.33  242.47  236.2  5.537031e+09      61.78   \n",
       "2024-01-08    242.60  239.10  244.10  237.7  5.982992e+09      51.97   \n",
       "2024-01-09    242.90  243.90  250.50  239.4  6.105518e+09      49.38   \n",
       "2024-01-10    249.90  242.90  252.25  242.2  6.087428e+09      48.58   \n",
       "2024-01-11    246.70  250.50  251.50  245.0  6.089273e+09      47.09   \n",
       "2024-01-12    251.00  246.00  254.75  241.9  6.186877e+09      44.38   \n",
       "\n",
       "            InterestRate  USD_TRY  BIST100  \n",
       "Tarih                                       \n",
       "2024-01-03         44.86    29.69  7412.04  \n",
       "2024-01-04         44.93    29.75  7547.84  \n",
       "2024-01-05         45.00    29.82  7628.73  \n",
       "2024-01-06         45.07    29.84  7692.12  \n",
       "2024-01-07         45.14    29.86  7755.50  \n",
       "2024-01-08         45.21    29.88  7818.89  \n",
       "2024-01-09         45.29    29.87  7736.26  \n",
       "2024-01-10         45.36    29.95  7874.16  \n",
       "2024-01-11         45.43    29.96  7895.96  \n",
       "2024-01-12         45.50    30.06  7986.47  "
      ]
     },
     "execution_count": 17,
     "metadata": {},
     "output_type": "execute_result"
    }
   ],
   "source": [
    "data=pd.read_csv('Merged_Data.csv',parse_dates=['Tarih'], index_col='Tarih',sep=',',decimal='.',date_format='%Y-%m-%d')\n",
    "data=data.drop(columns=[\"Hacim\",\"Fark%\",\"GDP\"],axis=1)\n",
    "#data.dropna(inplace=True)\n",
    "data.tail(10)"
   ]
  },
  {
   "cell_type": "code",
   "execution_count": 18,
   "metadata": {},
   "outputs": [],
   "source": [
    "data['LogAdjClose'] = np.log(data['AdjClose'])\n",
    "#data['DiffLogAdjClose'] = data['LogAdjClose'].diff()\n",
    "data.dropna(inplace=True)"
   ]
  },
  {
   "cell_type": "code",
   "execution_count": 19,
   "metadata": {},
   "outputs": [],
   "source": [
    "series = data['LogAdjClose']\n",
    "train_size = int(len(series) * 0.8)\n",
    "train, test = series[:train_size], series[train_size:]"
   ]
  },
  {
   "cell_type": "code",
   "execution_count": 20,
   "metadata": {},
   "outputs": [
    {
     "name": "stderr",
     "output_type": "stream",
     "text": [
      "c:\\Users\\onugu\\anaconda3\\Lib\\site-packages\\sklearn\\utils\\deprecation.py:151: FutureWarning: 'force_all_finite' was renamed to 'ensure_all_finite' in 1.6 and will be removed in 1.8.\n",
      "  warnings.warn(\n",
      "c:\\Users\\onugu\\anaconda3\\Lib\\site-packages\\sklearn\\utils\\deprecation.py:151: FutureWarning: 'force_all_finite' was renamed to 'ensure_all_finite' in 1.6 and will be removed in 1.8.\n",
      "  warnings.warn(\n",
      "c:\\Users\\onugu\\anaconda3\\Lib\\site-packages\\sklearn\\utils\\deprecation.py:151: FutureWarning: 'force_all_finite' was renamed to 'ensure_all_finite' in 1.6 and will be removed in 1.8.\n",
      "  warnings.warn(\n",
      "c:\\Users\\onugu\\anaconda3\\Lib\\site-packages\\sklearn\\utils\\deprecation.py:151: FutureWarning: 'force_all_finite' was renamed to 'ensure_all_finite' in 1.6 and will be removed in 1.8.\n",
      "  warnings.warn(\n",
      "c:\\Users\\onugu\\anaconda3\\Lib\\site-packages\\sklearn\\utils\\deprecation.py:151: FutureWarning: 'force_all_finite' was renamed to 'ensure_all_finite' in 1.6 and will be removed in 1.8.\n",
      "  warnings.warn(\n",
      "c:\\Users\\onugu\\anaconda3\\Lib\\site-packages\\sklearn\\utils\\deprecation.py:151: FutureWarning: 'force_all_finite' was renamed to 'ensure_all_finite' in 1.6 and will be removed in 1.8.\n",
      "  warnings.warn(\n",
      "c:\\Users\\onugu\\anaconda3\\Lib\\site-packages\\sklearn\\utils\\deprecation.py:151: FutureWarning: 'force_all_finite' was renamed to 'ensure_all_finite' in 1.6 and will be removed in 1.8.\n",
      "  warnings.warn(\n",
      "c:\\Users\\onugu\\anaconda3\\Lib\\site-packages\\sklearn\\utils\\deprecation.py:151: FutureWarning: 'force_all_finite' was renamed to 'ensure_all_finite' in 1.6 and will be removed in 1.8.\n",
      "  warnings.warn(\n",
      "c:\\Users\\onugu\\anaconda3\\Lib\\site-packages\\sklearn\\utils\\deprecation.py:151: FutureWarning: 'force_all_finite' was renamed to 'ensure_all_finite' in 1.6 and will be removed in 1.8.\n",
      "  warnings.warn(\n"
     ]
    },
    {
     "name": "stdout",
     "output_type": "stream",
     "text": [
      "Performing stepwise search to minimize aic\n",
      " ARIMA(2,1,2)(0,0,0)[0] intercept   : AIC=-13524.342, Time=1.87 sec\n"
     ]
    },
    {
     "name": "stderr",
     "output_type": "stream",
     "text": [
      "c:\\Users\\onugu\\anaconda3\\Lib\\site-packages\\sklearn\\utils\\deprecation.py:151: FutureWarning: 'force_all_finite' was renamed to 'ensure_all_finite' in 1.6 and will be removed in 1.8.\n",
      "  warnings.warn(\n"
     ]
    },
    {
     "name": "stdout",
     "output_type": "stream",
     "text": [
      " ARIMA(0,1,0)(0,0,0)[0] intercept   : AIC=-13510.481, Time=0.25 sec\n",
      " ARIMA(1,1,0)(0,0,0)[0] intercept   : AIC=-13515.438, Time=0.10 sec\n"
     ]
    },
    {
     "name": "stderr",
     "output_type": "stream",
     "text": [
      "c:\\Users\\onugu\\anaconda3\\Lib\\site-packages\\sklearn\\utils\\deprecation.py:151: FutureWarning: 'force_all_finite' was renamed to 'ensure_all_finite' in 1.6 and will be removed in 1.8.\n",
      "  warnings.warn(\n",
      "c:\\Users\\onugu\\anaconda3\\Lib\\site-packages\\sklearn\\utils\\deprecation.py:151: FutureWarning: 'force_all_finite' was renamed to 'ensure_all_finite' in 1.6 and will be removed in 1.8.\n",
      "  warnings.warn(\n"
     ]
    },
    {
     "name": "stdout",
     "output_type": "stream",
     "text": [
      " ARIMA(0,1,1)(0,0,0)[0] intercept   : AIC=-13514.732, Time=0.52 sec\n",
      " ARIMA(0,1,0)(0,0,0)[0]             : AIC=-13511.254, Time=0.12 sec\n"
     ]
    },
    {
     "name": "stderr",
     "output_type": "stream",
     "text": [
      "c:\\Users\\onugu\\anaconda3\\Lib\\site-packages\\sklearn\\utils\\deprecation.py:151: FutureWarning: 'force_all_finite' was renamed to 'ensure_all_finite' in 1.6 and will be removed in 1.8.\n",
      "  warnings.warn(\n",
      "c:\\Users\\onugu\\anaconda3\\Lib\\site-packages\\sklearn\\utils\\deprecation.py:151: FutureWarning: 'force_all_finite' was renamed to 'ensure_all_finite' in 1.6 and will be removed in 1.8.\n",
      "  warnings.warn(\n"
     ]
    },
    {
     "name": "stdout",
     "output_type": "stream",
     "text": [
      " ARIMA(1,1,2)(0,0,0)[0] intercept   : AIC=-13518.743, Time=0.62 sec\n"
     ]
    },
    {
     "name": "stderr",
     "output_type": "stream",
     "text": [
      "c:\\Users\\onugu\\anaconda3\\Lib\\site-packages\\sklearn\\utils\\deprecation.py:151: FutureWarning: 'force_all_finite' was renamed to 'ensure_all_finite' in 1.6 and will be removed in 1.8.\n",
      "  warnings.warn(\n"
     ]
    },
    {
     "name": "stdout",
     "output_type": "stream",
     "text": [
      " ARIMA(2,1,1)(0,0,0)[0] intercept   : AIC=-13520.354, Time=0.34 sec\n"
     ]
    },
    {
     "name": "stderr",
     "output_type": "stream",
     "text": [
      "c:\\Users\\onugu\\anaconda3\\Lib\\site-packages\\sklearn\\utils\\deprecation.py:151: FutureWarning: 'force_all_finite' was renamed to 'ensure_all_finite' in 1.6 and will be removed in 1.8.\n",
      "  warnings.warn(\n"
     ]
    },
    {
     "name": "stdout",
     "output_type": "stream",
     "text": [
      " ARIMA(3,1,2)(0,0,0)[0] intercept   : AIC=-13523.524, Time=2.02 sec\n"
     ]
    },
    {
     "name": "stderr",
     "output_type": "stream",
     "text": [
      "c:\\Users\\onugu\\anaconda3\\Lib\\site-packages\\sklearn\\utils\\deprecation.py:151: FutureWarning: 'force_all_finite' was renamed to 'ensure_all_finite' in 1.6 and will be removed in 1.8.\n",
      "  warnings.warn(\n"
     ]
    },
    {
     "name": "stdout",
     "output_type": "stream",
     "text": [
      " ARIMA(2,1,3)(0,0,0)[0] intercept   : AIC=-13517.754, Time=1.07 sec\n"
     ]
    },
    {
     "name": "stderr",
     "output_type": "stream",
     "text": [
      "c:\\Users\\onugu\\anaconda3\\Lib\\site-packages\\sklearn\\utils\\deprecation.py:151: FutureWarning: 'force_all_finite' was renamed to 'ensure_all_finite' in 1.6 and will be removed in 1.8.\n",
      "  warnings.warn(\n"
     ]
    },
    {
     "name": "stdout",
     "output_type": "stream",
     "text": [
      " ARIMA(1,1,1)(0,0,0)[0] intercept   : AIC=-13518.184, Time=0.25 sec\n"
     ]
    },
    {
     "name": "stderr",
     "output_type": "stream",
     "text": [
      "c:\\Users\\onugu\\anaconda3\\Lib\\site-packages\\sklearn\\utils\\deprecation.py:151: FutureWarning: 'force_all_finite' was renamed to 'ensure_all_finite' in 1.6 and will be removed in 1.8.\n",
      "  warnings.warn(\n"
     ]
    },
    {
     "name": "stdout",
     "output_type": "stream",
     "text": [
      " ARIMA(1,1,3)(0,0,0)[0] intercept   : AIC=-13517.493, Time=2.06 sec\n"
     ]
    },
    {
     "name": "stderr",
     "output_type": "stream",
     "text": [
      "c:\\Users\\onugu\\anaconda3\\Lib\\site-packages\\sklearn\\utils\\deprecation.py:151: FutureWarning: 'force_all_finite' was renamed to 'ensure_all_finite' in 1.6 and will be removed in 1.8.\n",
      "  warnings.warn(\n"
     ]
    },
    {
     "name": "stdout",
     "output_type": "stream",
     "text": [
      " ARIMA(3,1,1)(0,0,0)[0] intercept   : AIC=-13517.825, Time=0.68 sec\n"
     ]
    },
    {
     "name": "stderr",
     "output_type": "stream",
     "text": [
      "c:\\Users\\onugu\\anaconda3\\Lib\\site-packages\\sklearn\\utils\\deprecation.py:151: FutureWarning: 'force_all_finite' was renamed to 'ensure_all_finite' in 1.6 and will be removed in 1.8.\n",
      "  warnings.warn(\n"
     ]
    },
    {
     "name": "stdout",
     "output_type": "stream",
     "text": [
      " ARIMA(3,1,3)(0,0,0)[0] intercept   : AIC=-13514.666, Time=0.50 sec\n"
     ]
    },
    {
     "name": "stderr",
     "output_type": "stream",
     "text": [
      "c:\\Users\\onugu\\anaconda3\\Lib\\site-packages\\sklearn\\utils\\deprecation.py:151: FutureWarning: 'force_all_finite' was renamed to 'ensure_all_finite' in 1.6 and will be removed in 1.8.\n",
      "  warnings.warn(\n"
     ]
    },
    {
     "name": "stdout",
     "output_type": "stream",
     "text": [
      " ARIMA(2,1,2)(0,0,0)[0]             : AIC=-13525.783, Time=1.08 sec\n",
      " ARIMA(1,1,2)(0,0,0)[0]             : AIC=-13519.696, Time=0.14 sec\n"
     ]
    },
    {
     "name": "stderr",
     "output_type": "stream",
     "text": [
      "c:\\Users\\onugu\\anaconda3\\Lib\\site-packages\\sklearn\\utils\\deprecation.py:151: FutureWarning: 'force_all_finite' was renamed to 'ensure_all_finite' in 1.6 and will be removed in 1.8.\n",
      "  warnings.warn(\n",
      "c:\\Users\\onugu\\anaconda3\\Lib\\site-packages\\sklearn\\utils\\deprecation.py:151: FutureWarning: 'force_all_finite' was renamed to 'ensure_all_finite' in 1.6 and will be removed in 1.8.\n",
      "  warnings.warn(\n"
     ]
    },
    {
     "name": "stdout",
     "output_type": "stream",
     "text": [
      " ARIMA(2,1,1)(0,0,0)[0]             : AIC=-13521.309, Time=0.24 sec\n"
     ]
    },
    {
     "name": "stderr",
     "output_type": "stream",
     "text": [
      "c:\\Users\\onugu\\anaconda3\\Lib\\site-packages\\sklearn\\utils\\deprecation.py:151: FutureWarning: 'force_all_finite' was renamed to 'ensure_all_finite' in 1.6 and will be removed in 1.8.\n",
      "  warnings.warn(\n"
     ]
    },
    {
     "name": "stdout",
     "output_type": "stream",
     "text": [
      " ARIMA(3,1,2)(0,0,0)[0]             : AIC=-13525.107, Time=1.48 sec\n"
     ]
    },
    {
     "name": "stderr",
     "output_type": "stream",
     "text": [
      "c:\\Users\\onugu\\anaconda3\\Lib\\site-packages\\sklearn\\utils\\deprecation.py:151: FutureWarning: 'force_all_finite' was renamed to 'ensure_all_finite' in 1.6 and will be removed in 1.8.\n",
      "  warnings.warn(\n"
     ]
    },
    {
     "name": "stdout",
     "output_type": "stream",
     "text": [
      " ARIMA(2,1,3)(0,0,0)[0]             : AIC=-13520.317, Time=1.24 sec\n"
     ]
    },
    {
     "name": "stderr",
     "output_type": "stream",
     "text": [
      "c:\\Users\\onugu\\anaconda3\\Lib\\site-packages\\sklearn\\utils\\deprecation.py:151: FutureWarning: 'force_all_finite' was renamed to 'ensure_all_finite' in 1.6 and will be removed in 1.8.\n",
      "  warnings.warn(\n"
     ]
    },
    {
     "name": "stdout",
     "output_type": "stream",
     "text": [
      " ARIMA(1,1,1)(0,0,0)[0]             : AIC=-13524.500, Time=0.51 sec\n"
     ]
    },
    {
     "name": "stderr",
     "output_type": "stream",
     "text": [
      "c:\\Users\\onugu\\anaconda3\\Lib\\site-packages\\sklearn\\utils\\deprecation.py:151: FutureWarning: 'force_all_finite' was renamed to 'ensure_all_finite' in 1.6 and will be removed in 1.8.\n",
      "  warnings.warn(\n"
     ]
    },
    {
     "name": "stdout",
     "output_type": "stream",
     "text": [
      " ARIMA(1,1,3)(0,0,0)[0]             : AIC=-13518.492, Time=0.82 sec\n"
     ]
    },
    {
     "name": "stderr",
     "output_type": "stream",
     "text": [
      "c:\\Users\\onugu\\anaconda3\\Lib\\site-packages\\sklearn\\utils\\deprecation.py:151: FutureWarning: 'force_all_finite' was renamed to 'ensure_all_finite' in 1.6 and will be removed in 1.8.\n",
      "  warnings.warn(\n"
     ]
    },
    {
     "name": "stdout",
     "output_type": "stream",
     "text": [
      " ARIMA(3,1,1)(0,0,0)[0]             : AIC=-13518.800, Time=0.29 sec\n"
     ]
    },
    {
     "name": "stderr",
     "output_type": "stream",
     "text": [
      "c:\\Users\\onugu\\anaconda3\\Lib\\site-packages\\sklearn\\utils\\deprecation.py:151: FutureWarning: 'force_all_finite' was renamed to 'ensure_all_finite' in 1.6 and will be removed in 1.8.\n",
      "  warnings.warn(\n"
     ]
    },
    {
     "name": "stdout",
     "output_type": "stream",
     "text": [
      " ARIMA(3,1,3)(0,0,0)[0]             : AIC=-13517.273, Time=1.36 sec\n",
      "\n",
      "Best model:  ARIMA(2,1,2)(0,0,0)[0]          \n",
      "Total fit time: 17.564 seconds\n"
     ]
    }
   ],
   "source": [
    "from pmdarima.arima import auto_arima\n",
    "\n",
    "model = auto_arima(train,\n",
    "                   seasonal=True,\n",
    "                   stepwise=True,\n",
    "                   suppress_warnings=True,\n",
    "                   trace=True)"
   ]
  },
  {
   "cell_type": "code",
   "execution_count": 21,
   "metadata": {},
   "outputs": [
    {
     "name": "stdout",
     "output_type": "stream",
     "text": [
      "Seçilen model:                                SARIMAX Results                                \n",
      "==============================================================================\n",
      "Dep. Variable:                      y   No. Observations:                 2638\n",
      "Model:               SARIMAX(2, 1, 2)   Log Likelihood                6767.891\n",
      "Date:                Fri, 04 Apr 2025   AIC                         -13525.783\n",
      "Time:                        06:41:16   BIC                         -13496.396\n",
      "Sample:                    01-02-2015   HQIC                        -13515.143\n",
      "                         - 03-23-2022                                         \n",
      "Covariance Type:                  opg                                         \n",
      "==============================================================================\n",
      "                 coef    std err          z      P>|z|      [0.025      0.975]\n",
      "------------------------------------------------------------------------------\n",
      "ar.L1         -0.1244      0.110     -1.131      0.258      -0.340       0.091\n",
      "ar.L2          0.6700      0.114      5.892      0.000       0.447       0.893\n",
      "ma.L1          0.1616      0.116      1.390      0.165      -0.066       0.390\n",
      "ma.L2         -0.6024      0.122     -4.918      0.000      -0.842      -0.362\n",
      "sigma2         0.0003   5.01e-06     68.894      0.000       0.000       0.000\n",
      "===================================================================================\n",
      "Ljung-Box (L1) (Q):                   0.34   Jarque-Bera (JB):              3364.38\n",
      "Prob(Q):                              0.56   Prob(JB):                         0.00\n",
      "Heteroskedasticity (H):               1.96   Skew:                            -0.15\n",
      "Prob(H) (two-sided):                  0.00   Kurtosis:                         8.53\n",
      "===================================================================================\n",
      "\n",
      "Warnings:\n",
      "[1] Covariance matrix calculated using the outer product of gradients (complex-step).\n"
     ]
    }
   ],
   "source": [
    "print(\"Seçilen model:\", model.summary())"
   ]
  },
  {
   "cell_type": "code",
   "execution_count": 22,
   "metadata": {},
   "outputs": [
    {
     "name": "stderr",
     "output_type": "stream",
     "text": [
      "c:\\Users\\onugu\\anaconda3\\Lib\\site-packages\\sklearn\\utils\\deprecation.py:151: FutureWarning: 'force_all_finite' was renamed to 'ensure_all_finite' in 1.6 and will be removed in 1.8.\n",
      "  warnings.warn(\n"
     ]
    }
   ],
   "source": [
    "# %% Test verisi kadar tahmin yap\n",
    "forecast = model.predict(n_periods=len(test))"
   ]
  },
  {
   "cell_type": "code",
   "execution_count": 24,
   "metadata": {},
   "outputs": [
    {
     "name": "stdout",
     "output_type": "stream",
     "text": [
      "Düzeltilmiş Auto ARIMA RMSE (fiyat): 134.077374194193\n"
     ]
    }
   ],
   "source": [
    "\n",
    "# %% Tahmini log seviyesine çıkar (birikimli)\n",
    "#last_log_price = data['LogAdjClose'].iloc[train_size - 1]  # test başlangıcından bir önceki log fiyat\n",
    "#forecast_log_prices = forecast.cumsum() + last_log_price\n",
    "\n",
    "# %% Log seviyesinden orijinal fiyata dön\n",
    "predicted_prices_corrected = np.exp(forecast)\n",
    "\n",
    "# %% Gerçek fiyatları al\n",
    "true_prices = data['AdjClose'].iloc[train_size:]\n",
    "\n",
    "# %% RMSE hesapla\n",
    "rmse = np.sqrt(mean_squared_error(true_prices, predicted_prices_corrected))\n",
    "print(\"Düzeltilmiş Auto ARIMA RMSE (fiyat):\", rmse)"
   ]
  },
  {
   "cell_type": "code",
   "execution_count": 25,
   "metadata": {},
   "outputs": [
    {
     "data": {
      "image/png": "[encoded data removed]",
      "text/plain": [
       "<Figure size 1200x600 with 1 Axes>"
      ]
     },
     "metadata": {},
     "output_type": "display_data"
    }
   ],
   "source": [
    "plt.figure(figsize=(12,6))\n",
    "plt.plot(true_prices.index, true_prices.values, label='Gerçek Fiyat', color='blue')\n",
    "plt.plot(true_prices.index, predicted_prices_corrected.values, label='Auto ARIMA Tahmini (dönüştürülmüş)', color='orange')\n",
    "plt.title('Auto ARIMA ile Orijinal Fiyat Üzerinden Tahmin (log+diff sonrası dönüştürülmüş)')\n",
    "plt.xlabel('Tarih')\n",
    "plt.ylabel('Fiyat')\n",
    "plt.legend()\n",
    "plt.grid(True)\n",
    "plt.show()"
   ]
  },
  {
   "cell_type": "code",
   "execution_count": 27,
   "metadata": {},
   "outputs": [
    {
     "name": "stdout",
     "output_type": "stream",
     "text": [
      "2022-03-24    3.336065\n",
      "2022-03-25    3.336320\n",
      "2022-03-26    3.336486\n",
      "2022-03-27    3.336636\n",
      "2022-03-28    3.336729\n",
      "                ...   \n",
      "2024-01-08    3.337061\n",
      "2024-01-09    3.337061\n",
      "2024-01-10    3.337061\n",
      "2024-01-11    3.337061\n",
      "2024-01-12    3.337061\n",
      "Freq: D, Length: 660, dtype: float64\n",
      "5.8810025280039524e-05\n"
     ]
    }
   ],
   "source": [
    "print(forecast[:])\n",
    "print(np.std(forecast))  # varyansına bak\n"
   ]
  }
 ],
 "metadata": {
  "kernelspec": {
   "display_name": "base",
   "language": "python",
   "name": "python3"
  },
  "language_info": {
   "codemirror_mode": {
    "name": "ipython",
    "version": 3
   },
   "file_extension": ".py",
   "mimetype": "text/x-python",
   "name": "python",
   "nbconvert_exporter": "python",
   "pygments_lexer": "ipython3",
   "version": "3.10.9"
  }
 },
 "nbformat": 4,
 "nbformat_minor": 2
}
